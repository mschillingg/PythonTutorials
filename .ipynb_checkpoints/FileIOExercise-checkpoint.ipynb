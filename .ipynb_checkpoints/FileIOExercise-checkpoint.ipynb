{
 "cells": [
  {
   "cell_type": "markdown",
   "id": "0a78de2f",
   "metadata": {},
   "source": [
    "Importing libraries"
   ]
  },
  {
   "cell_type": "code",
   "execution_count": 1,
   "id": "7edc2bd0",
   "metadata": {},
   "outputs": [],
   "source": [
    "import pandas as pd\n",
    "import matplotlib.pyplot as plt\n",
    "import seaborn as sns"
   ]
  },
  {
   "cell_type": "markdown",
   "id": "3a37bbbe",
   "metadata": {},
   "source": [
    "Reading the data file"
   ]
  },
  {
   "cell_type": "code",
   "execution_count": 2,
   "id": "f0aa3047",
   "metadata": {},
   "outputs": [],
   "source": [
    "myDataFromFile = pd.read_csv(\"datasets/006ExerciseFile.csv\")"
   ]
  },
  {
   "cell_type": "code",
   "execution_count": 3,
   "id": "6f208f8d",
   "metadata": {},
   "outputs": [
    {
     "data": {
      "text/html": [
       "<div>\n",
       "<style scoped>\n",
       "    .dataframe tbody tr th:only-of-type {\n",
       "        vertical-align: middle;\n",
       "    }\n",
       "\n",
       "    .dataframe tbody tr th {\n",
       "        vertical-align: top;\n",
       "    }\n",
       "\n",
       "    .dataframe thead th {\n",
       "        text-align: right;\n",
       "    }\n",
       "</style>\n",
       "<table border=\"1\" class=\"dataframe\">\n",
       "  <thead>\n",
       "    <tr style=\"text-align: right;\">\n",
       "      <th></th>\n",
       "      <th>frzr4</th>\n",
       "      <th>frzr2</th>\n",
       "    </tr>\n",
       "  </thead>\n",
       "  <tbody>\n",
       "    <tr>\n",
       "      <th>0</th>\n",
       "      <td>-78.921478</td>\n",
       "      <td>-81.919121</td>\n",
       "    </tr>\n",
       "    <tr>\n",
       "      <th>1</th>\n",
       "      <td>-79.073391</td>\n",
       "      <td>-80.711522</td>\n",
       "    </tr>\n",
       "    <tr>\n",
       "      <th>2</th>\n",
       "      <td>-78.384396</td>\n",
       "      <td>-80.614746</td>\n",
       "    </tr>\n",
       "    <tr>\n",
       "      <th>3</th>\n",
       "      <td>-80.136295</td>\n",
       "      <td>-79.818321</td>\n",
       "    </tr>\n",
       "    <tr>\n",
       "      <th>4</th>\n",
       "      <td>-81.665934</td>\n",
       "      <td>-81.058738</td>\n",
       "    </tr>\n",
       "    <tr>\n",
       "      <th>...</th>\n",
       "      <td>...</td>\n",
       "      <td>...</td>\n",
       "    </tr>\n",
       "    <tr>\n",
       "      <th>495</th>\n",
       "      <td>-78.563320</td>\n",
       "      <td>-79.710078</td>\n",
       "    </tr>\n",
       "    <tr>\n",
       "      <th>496</th>\n",
       "      <td>-80.250203</td>\n",
       "      <td>-79.792869</td>\n",
       "    </tr>\n",
       "    <tr>\n",
       "      <th>497</th>\n",
       "      <td>-79.145973</td>\n",
       "      <td>-81.040803</td>\n",
       "    </tr>\n",
       "    <tr>\n",
       "      <th>498</th>\n",
       "      <td>-76.098627</td>\n",
       "      <td>-80.775510</td>\n",
       "    </tr>\n",
       "    <tr>\n",
       "      <th>499</th>\n",
       "      <td>-80.548183</td>\n",
       "      <td>-80.393269</td>\n",
       "    </tr>\n",
       "  </tbody>\n",
       "</table>\n",
       "<p>500 rows × 2 columns</p>\n",
       "</div>"
      ],
      "text/plain": [
       "         frzr4      frzr2\n",
       "0   -78.921478 -81.919121\n",
       "1   -79.073391 -80.711522\n",
       "2   -78.384396 -80.614746\n",
       "3   -80.136295 -79.818321\n",
       "4   -81.665934 -81.058738\n",
       "..         ...        ...\n",
       "495 -78.563320 -79.710078\n",
       "496 -80.250203 -79.792869\n",
       "497 -79.145973 -81.040803\n",
       "498 -76.098627 -80.775510\n",
       "499 -80.548183 -80.393269\n",
       "\n",
       "[500 rows x 2 columns]"
      ]
     },
     "metadata": {},
     "output_type": "display_data"
    }
   ],
   "source": [
    "display(myDataFromFile)"
   ]
  },
  {
   "cell_type": "markdown",
   "id": "80afe920",
   "metadata": {},
   "source": [
    "Pretty histograms of the two distributions"
   ]
  },
  {
   "cell_type": "code",
   "execution_count": 20,
   "id": "cc28d261",
   "metadata": {},
   "outputs": [
    {
     "data": {
      "text/plain": [
       "<AxesSubplot:ylabel='Count'>"
      ]
     },
     "execution_count": 20,
     "metadata": {},
     "output_type": "execute_result"
    },
    {
     "data": {
      "image/png": "[encoded data removed]",
      "text/plain": [
       "<Figure size 432x288 with 1 Axes>"
      ]
     },
     "metadata": {
      "needs_background": "light"
     },
     "output_type": "display_data"
    }
   ],
   "source": [
    "sns.histplot(myDataFromFile, multiple=\"dodge\", palette=\"pastel\")"
   ]
  },
  {
   "cell_type": "code",
   "execution_count": 21,
   "id": "5b450442",
   "metadata": {},
   "outputs": [
    {
     "data": {
      "text/plain": [
       "<AxesSubplot:ylabel='Count'>"
      ]
     },
     "execution_count": 21,
     "metadata": {},
     "output_type": "execute_result"
    },
    {
     "data": {
      "image/png": "[encoded data removed]",
      "text/plain": [
       "<Figure size 432x288 with 1 Axes>"
      ]
     },
     "metadata": {
      "needs_background": "light"
     },
     "output_type": "display_data"
    }
   ],
   "source": [
    "sns.histplot(myDataFromFile, multiple=\"layer\", palette=\"pastel\")"
   ]
  },
  {
   "cell_type": "markdown",
   "id": "1c7f8987",
   "metadata": {},
   "source": [
    "Pretty KDE plots of the two distributions"
   ]
  },
  {
   "cell_type": "code",
   "execution_count": 12,
   "id": "a2fc3017",
   "metadata": {
    "scrolled": true
   },
   "outputs": [
    {
     "data": {
      "text/plain": [
       "<AxesSubplot:xlabel='frzr4', ylabel='Density'>"
      ]
     },
     "execution_count": 12,
     "metadata": {},
     "output_type": "execute_result"
    },
    {
     "data": {
      "image/png": "[encoded data removed]",
      "text/plain": [
       "<Figure size 432x288 with 1 Axes>"
      ]
     },
     "metadata": {
      "needs_background": "light"
     },
     "output_type": "display_data"
    }
   ],
   "source": [
    "sns.kdeplot(myDataFromFile[\"frzr4\"], color=\"g\", fill=True, alpha=0.3)\n",
    "sns.kdeplot(myDataFromFile[\"frzr2\"], color=\"y\", fill=True, alpha=0.3)"
   ]
  },
  {
   "cell_type": "code",
   "execution_count": 16,
   "id": "39cc285c",
   "metadata": {},
   "outputs": [
    {
     "data": {
      "text/plain": [
       "<AxesSubplot:xlabel='frzr4', ylabel='Density'>"
      ]
     },
     "execution_count": 16,
     "metadata": {},
     "output_type": "execute_result"
    },
    {
     "data": {
      "image/png": "[encoded data removed]",
      "text/plain": [
       "<Figure size 432x288 with 1 Axes>"
      ]
     },
     "metadata": {
      "needs_background": "light"
     },
     "output_type": "display_data"
    }
   ],
   "source": [
    "sns.kdeplot(myDataFromFile[\"frzr4\"], color=\"r\", fill=True, alpha=0.3)\n",
    "sns.kdeplot(myDataFromFile[\"frzr2\"], color=\"b\", fill=True, alpha=0.3)"
   ]
  },
  {
   "cell_type": "markdown",
   "id": "ddf535a5",
   "metadata": {},
   "source": [
    "Summarizing the data"
   ]
  },
  {
   "cell_type": "code",
   "execution_count": 9,
   "id": "487bee7c",
   "metadata": {},
   "outputs": [],
   "source": [
    "mySummary = myDataFromFile.describe()"
   ]
  },
  {
   "cell_type": "code",
   "execution_count": 10,
   "id": "c550f458",
   "metadata": {},
   "outputs": [
    {
     "name": "stdout",
     "output_type": "stream",
     "text": [
      "            frzr4       frzr2\n",
      "count  500.000000  500.000000\n",
      "mean   -78.950004  -80.042102\n",
      "std      1.590001    1.052367\n",
      "min    -83.397327  -83.105795\n",
      "25%    -80.073219  -80.757600\n",
      "50%    -78.861037  -80.010948\n",
      "75%    -77.841418  -79.284328\n",
      "max    -75.047915  -77.134292\n"
     ]
    }
   ],
   "source": [
    "print(mySummary)"
   ]
  },
  {
   "cell_type": "markdown",
   "id": "1a278fc3",
   "metadata": {},
   "source": [
    "Writing the data summary out to a new file"
   ]
  },
  {
   "cell_type": "code",
   "execution_count": 17,
   "id": "bc33b0a5",
   "metadata": {},
   "outputs": [],
   "source": [
    "mySummary.to_csv(\"mySummary.csv\")"
   ]
  },
  {
   "cell_type": "code",
   "execution_count": 18,
   "id": "9c6a1450",
   "metadata": {},
   "outputs": [],
   "source": [
    "mySumDF = pd.read_csv(\"mySummary.csv\")"
   ]
  },
  {
   "cell_type": "code",
   "execution_count": 19,
   "id": "4b8748ad",
   "metadata": {},
   "outputs": [
    {
     "data": {
      "text/html": [
       "<div>\n",
       "<style scoped>\n",
       "    .dataframe tbody tr th:only-of-type {\n",
       "        vertical-align: middle;\n",
       "    }\n",
       "\n",
       "    .dataframe tbody tr th {\n",
       "        vertical-align: top;\n",
       "    }\n",
       "\n",
       "    .dataframe thead th {\n",
       "        text-align: right;\n",
       "    }\n",
       "</style>\n",
       "<table border=\"1\" class=\"dataframe\">\n",
       "  <thead>\n",
       "    <tr style=\"text-align: right;\">\n",
       "      <th></th>\n",
       "      <th>Unnamed: 0</th>\n",
       "      <th>frzr4</th>\n",
       "      <th>frzr2</th>\n",
       "    </tr>\n",
       "  </thead>\n",
       "  <tbody>\n",
       "    <tr>\n",
       "      <th>0</th>\n",
       "      <td>count</td>\n",
       "      <td>500.000000</td>\n",
       "      <td>500.000000</td>\n",
       "    </tr>\n",
       "    <tr>\n",
       "      <th>1</th>\n",
       "      <td>mean</td>\n",
       "      <td>-78.950004</td>\n",
       "      <td>-80.042102</td>\n",
       "    </tr>\n",
       "    <tr>\n",
       "      <th>2</th>\n",
       "      <td>std</td>\n",
       "      <td>1.590001</td>\n",
       "      <td>1.052367</td>\n",
       "    </tr>\n",
       "    <tr>\n",
       "      <th>3</th>\n",
       "      <td>min</td>\n",
       "      <td>-83.397327</td>\n",
       "      <td>-83.105795</td>\n",
       "    </tr>\n",
       "    <tr>\n",
       "      <th>4</th>\n",
       "      <td>25%</td>\n",
       "      <td>-80.073219</td>\n",
       "      <td>-80.757600</td>\n",
       "    </tr>\n",
       "    <tr>\n",
       "      <th>5</th>\n",
       "      <td>50%</td>\n",
       "      <td>-78.861037</td>\n",
       "      <td>-80.010948</td>\n",
       "    </tr>\n",
       "    <tr>\n",
       "      <th>6</th>\n",
       "      <td>75%</td>\n",
       "      <td>-77.841418</td>\n",
       "      <td>-79.284328</td>\n",
       "    </tr>\n",
       "    <tr>\n",
       "      <th>7</th>\n",
       "      <td>max</td>\n",
       "      <td>-75.047915</td>\n",
       "      <td>-77.134292</td>\n",
       "    </tr>\n",
       "  </tbody>\n",
       "</table>\n",
       "</div>"
      ],
      "text/plain": [
       "  Unnamed: 0       frzr4       frzr2\n",
       "0      count  500.000000  500.000000\n",
       "1       mean  -78.950004  -80.042102\n",
       "2        std    1.590001    1.052367\n",
       "3        min  -83.397327  -83.105795\n",
       "4        25%  -80.073219  -80.757600\n",
       "5        50%  -78.861037  -80.010948\n",
       "6        75%  -77.841418  -79.284328\n",
       "7        max  -75.047915  -77.134292"
      ]
     },
     "metadata": {},
     "output_type": "display_data"
    }
   ],
   "source": [
    "display(mySumDF)"
   ]
  },
  {
   "cell_type": "markdown",
   "id": "e99516c8",
   "metadata": {},
   "source": [
    "It seems like freezer 2 is functioning normally, with the temp hovering right around -80. Freezer 4 may need to be looked at, as its mean temp is sitting a couple degrees higher than freezer 2 (and has more variation in its recorded temps). "
   ]
  },
  {
   "cell_type": "code",
   "execution_count": null,
   "id": "3f50e996",
   "metadata": {},
   "outputs": [],
   "source": []
  }
 ],
 "metadata": {
  "kernelspec": {
   "display_name": "Python 3 (ipykernel)",
   "language": "python",
   "name": "python3"
  },
  "language_info": {
   "codemirror_mode": {
    "name": "ipython",
    "version": 3
   },
   "file_extension": ".py",
   "mimetype": "text/x-python",
   "name": "python",
   "nbconvert_exporter": "python",
   "pygments_lexer": "ipython3",
   "version": "3.9.7"
  }
 },
 "nbformat": 4,
 "nbformat_minor": 5
}
