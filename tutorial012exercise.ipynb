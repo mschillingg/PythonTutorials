{
 "cells": [
  {
   "cell_type": "markdown",
   "id": "8d5850ff",
   "metadata": {},
   "source": [
    "# In-class exercise for tutorial012\n",
    "# Loops!"
   ]
  },
  {
   "cell_type": "markdown",
   "id": "c5c44d24",
   "metadata": {},
   "source": [
    "## Introduction"
   ]
  },
  {
   "cell_type": "markdown",
   "id": "b40af479",
   "metadata": {},
   "source": [
    "All of what we think of as \"statistics\" is based upon repeating an experiment an infinite number of times. But rather than actually repeating the experiment, a bunch of calculus is used, plus assumptions to get the math to work. It may not seem obvious, but when we have been doing something as simple as compute the width of a sampling distribution from a set of data as *s/sqrt(n)*, what we are really saying is:\n",
    "\n",
    "\"If we were to do this experiment an infinite number of times and make a distribution of the means from all the experiments, it would be a normal distribution and have a standard deviation of s/sqrt(n). (And, by the way, this formula is based on a bunch of math that we will never actually do!)\""
   ]
  },
  {
   "cell_type": "markdown",
   "id": "0bd2fa3a",
   "metadata": {},
   "source": [
    "One of the most important breakthroughs in statistics and data science was the realization that, with the repetition of a few simple operations (using computers), we can actually simulate experiments a \"very large\" number of times. And while it's true that \"very large\" is less then infinite, by using computers to repeat experiments many many times (say tenths of thousands), we free ourselves of the assumptions that had to made in order to get the math underlying traditional statistics to work!"
   ]
  },
  {
   "cell_type": "markdown",
   "id": "d1f9027b",
   "metadata": {},
   "source": [
    "But how would we simulate repeating an experiment a number of times over in code?\n",
    "\n",
    "You guessed it... **with a `for` loop!**"
   ]
  },
  {
   "cell_type": "markdown",
   "id": "9d6eaa57",
   "metadata": {},
   "source": [
    "---"
   ]
  },
  {
   "cell_type": "markdown",
   "id": "0a2229ba",
   "metadata": {},
   "source": [
    "### Load the data set"
   ]
  },
  {
   "cell_type": "markdown",
   "id": "b83ffc9d",
   "metadata": {},
   "source": [
    "The data come from an online test of anxiety that – according to the sketchy website – was constructed such that the anxiety scores are **normally distributed** with a **mean of 50** and a **standard deviation of 10**."
   ]
  },
  {
   "cell_type": "markdown",
   "id": "08259b8c",
   "metadata": {},
   "source": [
    "Preliminaries of course..."
   ]
  },
  {
   "cell_type": "code",
   "execution_count": 25,
   "id": "08142350",
   "metadata": {},
   "outputs": [],
   "source": [
    "import numpy as np\n",
    "import seaborn as sns"
   ]
  },
  {
   "cell_type": "markdown",
   "id": "33a49ed3",
   "metadata": {},
   "source": [
    "Load the data file \"datasets/012_anxiety_data.npy\" (assuming you put the file in your \"datasets\" folder – otherwise adjust path as necessary. Reminder: `np.load()` is your friend!"
   ]
  },
  {
   "cell_type": "code",
   "execution_count": 9,
   "id": "10e2c144",
   "metadata": {},
   "outputs": [],
   "source": [
    "ad = np.load(\"datasets/012_anxiety_data.npy\")"
   ]
  },
  {
   "cell_type": "markdown",
   "id": "848ffab6",
   "metadata": {},
   "source": [
    "Now let's make sure we know our data set, `real_data`, well. Let's \n",
    "\n",
    "* look at a histogram\n",
    "* ditto with a kde\n",
    "* compute the mean, median and standard deviation\n",
    "* compute the standard error of the mean\n"
   ]
  },
  {
   "cell_type": "code",
   "execution_count": 10,
   "id": "18f3ecf6",
   "metadata": {},
   "outputs": [
    {
     "data": {
      "text/plain": [
       "<seaborn.axisgrid.FacetGrid at 0x7fd8e54401f0>"
      ]
     },
     "execution_count": 10,
     "metadata": {},
     "output_type": "execute_result"
    },
    {
     "data": {
      "image/png": "[encoded data removed]",
      "text/plain": [
       "<Figure size 360x360 with 1 Axes>"
      ]
     },
     "metadata": {
      "needs_background": "light"
     },
     "output_type": "display_data"
    }
   ],
   "source": [
    "# histogram\n",
    "sns.displot(ad)"
   ]
  },
  {
   "cell_type": "code",
   "execution_count": 11,
   "id": "a6a3b264",
   "metadata": {},
   "outputs": [
    {
     "data": {
      "text/plain": [
       "<seaborn.axisgrid.FacetGrid at 0x7fd8e59617c0>"
      ]
     },
     "execution_count": 11,
     "metadata": {},
     "output_type": "execute_result"
    },
    {
     "data": {
      "image/png": "[encoded data removed]",
      "text/plain": [
       "<Figure size 360x360 with 1 Axes>"
      ]
     },
     "metadata": {
      "needs_background": "light"
     },
     "output_type": "display_data"
    }
   ],
   "source": [
    "# kde\n",
    "sns.displot(ad, kind='kde')"
   ]
  },
  {
   "cell_type": "code",
   "execution_count": 31,
   "id": "4b73fbac",
   "metadata": {},
   "outputs": [
    {
     "name": "stdout",
     "output_type": "stream",
     "text": [
      "60.971860226088445 61.00404975776776 9.789934489177513 (100,)\n"
     ]
    }
   ],
   "source": [
    "# mean, median and standard deviation\n",
    "datamean = np.mean(ad)\n",
    "datamedian = np.median(ad)\n",
    "datasd = np.std(ad)\n",
    "datasize = np.shape(ad)\n",
    "\n",
    "print(datamean, datamedian, datasd, datasize)"
   ]
  },
  {
   "cell_type": "code",
   "execution_count": 21,
   "id": "43f9f03d",
   "metadata": {},
   "outputs": [
    {
     "name": "stdout",
     "output_type": "stream",
     "text": [
      "0.9789934489177513\n"
     ]
    }
   ],
   "source": [
    "# standard error\n",
    "dataerror = np.std(ad) / np.sqrt(np.size(ad))\n",
    "\n",
    "print(dataerror)"
   ]
  },
  {
   "cell_type": "markdown",
   "id": "20281012",
   "metadata": {},
   "source": [
    "---"
   ]
  },
  {
   "cell_type": "markdown",
   "id": "5e67c7c8",
   "metadata": {},
   "source": [
    "In a sentence or two of your own words, describe what the standard error of the mean is:"
   ]
  },
  {
   "cell_type": "markdown",
   "id": "c70e80bc",
   "metadata": {},
   "source": [
    "The standard error of the mean measures how much discrepancy there is likely to be in a sample’s mean compared with the population mean."
   ]
  },
  {
   "cell_type": "markdown",
   "id": "9d74e3d3",
   "metadata": {},
   "source": [
    "---"
   ]
  },
  {
   "cell_type": "markdown",
   "id": "45042d71",
   "metadata": {},
   "source": [
    "### Simulate a bunch of experimental replications"
   ]
  },
  {
   "cell_type": "markdown",
   "id": "03044c01",
   "metadata": {},
   "source": [
    "Imagine, we wanted to simulate many many repeates of the same experiments. Fpr examp,e imagine that we wanted to appreciate the variability of the data obtained in the experiments, under certain conditions of noise and variability in the data. \n",
    "\n",
    "How would we simulate a bunch of experiments? We obviously can't actually repeat the experiments in the real world. But, as data scientists, we do have a couple of options, both of which we can implement with `for` loops!"
   ]
  },
  {
   "cell_type": "markdown",
   "id": "0adb4873",
   "metadata": {},
   "source": [
    "#### Monte Carlo Simulation"
   ]
  },
  {
   "cell_type": "markdown",
   "id": "50b8819d",
   "metadata": {},
   "source": [
    "If we want to repeat the experment a bunch of times, let's consider what we know! We know that the website claims that:\n",
    "\n",
    "* the scores are normally distributed\n",
    "* they have a mean of 50\n",
    "* and a standard deviation of 10\n",
    "\n",
    "So we should be able to use `numpy.random.randn()` to generate numbers that meet the first critereon. Then we just have to scale the standard deviation up by 10 and set the mean to 50. Luckily, we know how to multiply (`*`) and add (`+`), respectively.\n",
    "\n",
    "So here's our mission: \n",
    "\n",
    "* write a `for` loop that repeats `n_replications = 2000` times\n",
    "* on each replication\n",
    "    - compute the mean of the simulated experiment\n",
    "    - store that mean in a `mc_means` numpy array\n",
    "* do a histogram of the means\n",
    "* make a kde also too\n",
    "* compute the mean and standard deviation of the 2000 means\n",
    "   - compare the \"mean o' means\" from your simulation with the data mean\n",
    "   - compare the \"standard deviation o' means\" with the standard error of the data"
   ]
  },
  {
   "cell_type": "markdown",
   "id": "e8de9320",
   "metadata": {},
   "source": [
    "The simulation via `for` loop:"
   ]
  },
  {
   "cell_type": "code",
   "execution_count": 36,
   "id": "3d9b2b4a",
   "metadata": {},
   "outputs": [],
   "source": [
    "import numpy as np\n",
    "nReps = 2000\n",
    "nRows, nCols = nReps,1\n",
    "myArraysize = (nRows, nCols)\n",
    "anArray = np.zeros(myArraysize)\n",
    "\n",
    "claimedmean = 50\n",
    "claimedsd = 10\n",
    "\n",
    "for i in range(nRows) :\n",
    "    ourNumbers = np.random.randn(100)\n",
    "    ourNumbers = claimedmean + ourNumbers*claimedsd\n",
    "    anArray[i,:] = np.mean(ourNumbers)"
   ]
  },
  {
   "cell_type": "markdown",
   "id": "cfd404f2",
   "metadata": {},
   "source": [
    "Histogram of the means:"
   ]
  },
  {
   "cell_type": "code",
   "execution_count": 37,
   "id": "87ead3a7",
   "metadata": {},
   "outputs": [
    {
     "data": {
      "text/plain": [
       "<seaborn.axisgrid.FacetGrid at 0x7fd8e5a73b50>"
      ]
     },
     "execution_count": 37,
     "metadata": {},
     "output_type": "execute_result"
    },
    {
     "data": {
      "image/png": "[encoded data removed]",
      "text/plain": [
       "<Figure size 402.375x360 with 1 Axes>"
      ]
     },
     "metadata": {
      "needs_background": "light"
     },
     "output_type": "display_data"
    }
   ],
   "source": [
    "sns.displot(anArray)"
   ]
  },
  {
   "cell_type": "markdown",
   "id": "eaacb22e",
   "metadata": {},
   "source": [
    "KDE of the means"
   ]
  },
  {
   "cell_type": "code",
   "execution_count": 38,
   "id": "15f08876",
   "metadata": {},
   "outputs": [
    {
     "data": {
      "text/plain": [
       "<seaborn.axisgrid.FacetGrid at 0x7fd8e5c7ddc0>"
      ]
     },
     "execution_count": 38,
     "metadata": {},
     "output_type": "execute_result"
    },
    {
     "data": {
      "image/png": "[encoded data removed]",
      "text/plain": [
       "<Figure size 402.375x360 with 1 Axes>"
      ]
     },
     "metadata": {
      "needs_background": "light"
     },
     "output_type": "display_data"
    }
   ],
   "source": [
    "sns.displot(anArray, kind='kde')"
   ]
  },
  {
   "cell_type": "markdown",
   "id": "0cc6cd91",
   "metadata": {},
   "source": [
    "Compute the mean value of your simulation means:"
   ]
  },
  {
   "cell_type": "code",
   "execution_count": 41,
   "id": "cf0c918a",
   "metadata": {},
   "outputs": [
    {
     "name": "stdout",
     "output_type": "stream",
     "text": [
      "49.9985077806162\n"
     ]
    }
   ],
   "source": [
    "simMean = np.mean(anArray)\n",
    "print(simMean)"
   ]
  },
  {
   "cell_type": "markdown",
   "id": "42c5b077",
   "metadata": {},
   "source": [
    "Compare it with the original data mean:"
   ]
  },
  {
   "cell_type": "markdown",
   "id": "9e0c8c7e",
   "metadata": {},
   "source": [
    "The simulated mean is much lower than the original data mean, around 11 points lower (~50 vs ~61)."
   ]
  },
  {
   "cell_type": "markdown",
   "id": "af07ecfb",
   "metadata": {},
   "source": [
    "Compute the standard deviation of your simulation means:"
   ]
  },
  {
   "cell_type": "code",
   "execution_count": 43,
   "id": "1f610493",
   "metadata": {},
   "outputs": [
    {
     "name": "stdout",
     "output_type": "stream",
     "text": [
      "0.9770790824475561\n"
     ]
    }
   ],
   "source": [
    "simSD = np.std(anArray)\n",
    "print(simSD)"
   ]
  },
  {
   "cell_type": "markdown",
   "id": "f4470b37",
   "metadata": {},
   "source": [
    "Compare it with the standard error you computed from the original data:"
   ]
  },
  {
   "cell_type": "markdown",
   "id": "db63e2e5",
   "metadata": {},
   "source": [
    "They are essentially the same! 0.977 & 0.978"
   ]
  },
  {
   "cell_type": "markdown",
   "id": "2146f706",
   "metadata": {},
   "source": [
    "---"
   ]
  },
  {
   "cell_type": "markdown",
   "id": "19b2074f",
   "metadata": {},
   "source": [
    "##### Bonus (not required)\n",
    "If you knocked the above out with time to spare – congratulations – and let's think about this: you not only have the information given above as clues to the true state of the world. You also have:\n",
    "\n",
    "* the data themselves (or the histogram thereof that you made)\n",
    "* the actual mean of the original data\n",
    "* the actual standard deviation of the original data\n",
    "\n",
    "So rather than do a simulation based on the claimed mean of the sketchy website, you could base a new simulation on the data you actually have!\n",
    "\n",
    "Note that, if you wrote you code reasonably well above, you should only have to change the values of two variables to do this new simulation!\n",
    "\n",
    "Proceed!"
   ]
  },
  {
   "cell_type": "code",
   "execution_count": null,
   "id": "cde039eb",
   "metadata": {},
   "outputs": [],
   "source": []
  }
 ],
 "metadata": {
  "kernelspec": {
   "display_name": "Python 3 (ipykernel)",
   "language": "python",
   "name": "python3"
  },
  "language_info": {
   "codemirror_mode": {
    "name": "ipython",
    "version": 3
   },
   "file_extension": ".py",
   "mimetype": "text/x-python",
   "name": "python",
   "nbconvert_exporter": "python",
   "pygments_lexer": "ipython3",
   "version": "3.9.7"
  }
 },
 "nbformat": 4,
 "nbformat_minor": 5
}
